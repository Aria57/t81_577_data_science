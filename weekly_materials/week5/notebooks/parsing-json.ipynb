{
 "cells": [
  {
   "cell_type": "markdown",
   "metadata": {},
   "source": [
    "In the last lession we learnt, how to get data from REST API using requests library. In this lession, we will learn how to parse the JSON reponse from an API."
   ]
  },
  {
   "cell_type": "code",
   "execution_count": 26,
   "metadata": {},
   "outputs": [],
   "source": [
    "import os\n",
    "import requests \n",
    "APPID = os.getenv(\"APPID\")\n",
    "params = {'q': 'Saint Louis', 'APPID': APPID}\n",
    "response = requests.get(\"https://api.openweathermap.org/data/2.5/weather?\", params=params)"
   ]
  },
  {
   "cell_type": "code",
   "execution_count": 27,
   "metadata": {},
   "outputs": [],
   "source": [
    "r = response.json()"
   ]
  },
  {
   "cell_type": "markdown",
   "metadata": {},
   "source": [
    "Lets take a look at the content. "
   ]
  },
  {
   "cell_type": "code",
   "execution_count": 28,
   "metadata": {},
   "outputs": [
    {
     "data": {
      "text/plain": [
       "{'coord': {'lon': -90.2, 'lat': 38.63},\n",
       " 'weather': [{'id': 804,\n",
       "   'main': 'Clouds',\n",
       "   'description': 'overcast clouds',\n",
       "   'icon': '04d'}],\n",
       " 'base': 'stations',\n",
       " 'main': {'temp': 285.18,\n",
       "  'feels_like': 280.01,\n",
       "  'temp_min': 280.93,\n",
       "  'temp_max': 288.71,\n",
       "  'pressure': 1016,\n",
       "  'humidity': 76},\n",
       " 'visibility': 16093,\n",
       " 'wind': {'speed': 6.7, 'deg': 190, 'gust': 10.3},\n",
       " 'clouds': {'all': 90},\n",
       " 'dt': 1581277583,\n",
       " 'sys': {'type': 1,\n",
       "  'id': 5774,\n",
       "  'country': 'US',\n",
       "  'sunrise': 1581253152,\n",
       "  'sunset': 1581291055},\n",
       " 'timezone': -21600,\n",
       " 'id': 4407066,\n",
       " 'name': 'St. Louis',\n",
       " 'cod': 200}"
      ]
     },
     "execution_count": 28,
     "metadata": {},
     "output_type": "execute_result"
    }
   ],
   "source": [
    "r"
   ]
  },
  {
   "cell_type": "markdown",
   "metadata": {},
   "source": [
    "As seen above, JSON supports all common data types in python like strings, numbers, list, and dictionaries"
   ]
  },
  {
   "cell_type": "code",
   "execution_count": 20,
   "metadata": {},
   "outputs": [
    {
     "name": "stdout",
     "output_type": "stream",
     "text": [
      "{'lon': -90.2, 'lat': 38.63}\n"
     ]
    }
   ],
   "source": [
    "print ( r['coord'])"
   ]
  },
  {
   "cell_type": "code",
   "execution_count": null,
   "metadata": {},
   "outputs": [],
   "source": [
    "print ('min_temp: {}'.format(r['main']['temp_min']))\n",
    "print ('max_temp: {}'.format(r['main']['temp_max']))"
   ]
  },
  {
   "cell_type": "code",
   "execution_count": 24,
   "metadata": {},
   "outputs": [
    {
     "name": "stdout",
     "output_type": "stream",
     "text": [
      "max_temp: overcast clouds\n"
     ]
    }
   ],
   "source": [
    "print ('max_temp: {}'.format(r['weather'][0]['description']))"
   ]
  },
  {
   "cell_type": "markdown",
   "metadata": {},
   "source": [
    "### Parsing reponse contents with multiple counts"
   ]
  },
  {
   "cell_type": "code",
   "execution_count": 37,
   "metadata": {},
   "outputs": [],
   "source": [
    "params = {'bbox':'12,32,15,37,10' ,'units':'metric', 'APPID': APPID}\n",
    "\n",
    "response = requests.get(\"http://api.openweathermap.org/data/2.5/box/city?\", params=params)"
   ]
  },
  {
   "cell_type": "code",
   "execution_count": 39,
   "metadata": {},
   "outputs": [],
   "source": [
    "r = response.json()"
   ]
  },
  {
   "cell_type": "code",
   "execution_count": 53,
   "metadata": {},
   "outputs": [
    {
     "name": "stdout",
     "output_type": "stream",
     "text": [
      "Birkirkara\n",
      "Tripoli\n",
      "Zawiya\n",
      "Sabratah\n"
     ]
    }
   ],
   "source": [
    " for i in range(len(r)):\n",
    "        print (r['list'][i]['name'])"
   ]
  },
  {
   "cell_type": "code",
   "execution_count": 58,
   "metadata": {},
   "outputs": [],
   "source": [
    "import json\n",
    "with open(\"data_file.json\", \"w\") as write_file:\n",
    "    json.dump(r, write_file)"
   ]
  },
  {
   "cell_type": "code",
   "execution_count": 62,
   "metadata": {},
   "outputs": [],
   "source": [
    "with open(\"data_file.json\", \"r\") as read_file:\n",
    "    data = json.load(read_file)"
   ]
  },
  {
   "cell_type": "code",
   "execution_count": null,
   "metadata": {},
   "outputs": [],
   "source": []
  }
 ],
 "metadata": {
  "kernelspec": {
   "display_name": "Python 3",
   "language": "python",
   "name": "python3"
  },
  "language_info": {
   "codemirror_mode": {
    "name": "ipython",
    "version": 3
   },
   "file_extension": ".py",
   "mimetype": "text/x-python",
   "name": "python",
   "nbconvert_exporter": "python",
   "pygments_lexer": "ipython3",
   "version": "3.8.1"
  }
 },
 "nbformat": 4,
 "nbformat_minor": 4
}
