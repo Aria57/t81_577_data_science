{
 "cells": [
  {
   "cell_type": "markdown",
   "metadata": {},
   "source": [
    "## Parsing json response contents \n",
    "\n",
    "In the last lesson we learnt, how to get data from REST API using requests library. In this lesson, we will learn how to parse the JSON reponse from an API."
   ]
  },
  {
   "cell_type": "code",
   "execution_count": 101,
   "metadata": {},
   "outputs": [],
   "source": [
    "import os\n",
    "import requests \n",
    "APPID = os.getenv(\"APPID\")\n",
    "params = {'q': 'Saint Louis', 'APPID': APPID}\n",
    "response = requests.get(\"https://api.openweathermap.org/data/2.5/weather?\", params=params)"
   ]
  },
  {
   "cell_type": "markdown",
   "metadata": {},
   "source": [
    "As we learned previously, the Openweathermap API returns the response content in JSON format, which is just a kind of text format in whihc the data is recorded as keys and values. For Python users, JSON formatted data looks awefully similar to dictionary data structure. The response object has a method named `json`, which decodes the text of a JSON file into a Python dictionary object."
   ]
  },
  {
   "cell_type": "code",
   "execution_count": 109,
   "metadata": {},
   "outputs": [],
   "source": [
    "resp = response.json()"
   ]
  },
  {
   "cell_type": "code",
   "execution_count": 110,
   "metadata": {},
   "outputs": [
    {
     "name": "stdout",
     "output_type": "stream",
     "text": [
      "<class 'dict'>\n",
      "{'coord': {'lon': -90.2, 'lat': 38.63}, 'weather': [{'id': 802, 'main': 'Clouds', 'description': 'scattered clouds', 'icon': '03n'}], 'base': 'stations', 'main': {'temp': 275.44, 'feels_like': 272.52, 'temp_min': 273.15, 'temp_max': 277.59, 'pressure': 1024, 'humidity': 77}, 'visibility': 16093, 'wind': {'speed': 1.07, 'deg': 62}, 'clouds': {'all': 40}, 'dt': 1581472578, 'sys': {'type': 1, 'id': 5774, 'country': 'US', 'sunrise': 1581425821, 'sunset': 1581463993}, 'timezone': -21600, 'id': 4407066, 'name': 'St. Louis', 'cod': 200}\n"
     ]
    }
   ],
   "source": [
    "print(type(resp))\n",
    "print(obj)"
   ]
  },
  {
   "cell_type": "markdown",
   "metadata": {},
   "source": [
    "Take a look at the content: JSON supports all common data types in python like strings, numbers, list, and dictionaries"
   ]
  },
  {
   "cell_type": "code",
   "execution_count": 111,
   "metadata": {},
   "outputs": [
    {
     "name": "stdout",
     "output_type": "stream",
     "text": [
      "{'lon': -90.2, 'lat': 38.63}\n"
     ]
    }
   ],
   "source": [
    "print ( resp['coord'])"
   ]
  },
  {
   "cell_type": "code",
   "execution_count": 81,
   "metadata": {},
   "outputs": [
    {
     "name": "stdout",
     "output_type": "stream",
     "text": [
      "min_temp: 274.82\n",
      "max_temp: 278.15\n"
     ]
    }
   ],
   "source": [
    "print ('min_temp: {}'.format(resp['main']['temp_min']))\n",
    "print ('max_temp: {}'.format(resp['main']['temp_max']))"
   ]
  },
  {
   "cell_type": "code",
   "execution_count": 82,
   "metadata": {},
   "outputs": [
    {
     "name": "stdout",
     "output_type": "stream",
     "text": [
      "max_temp: clear sky\n"
     ]
    }
   ],
   "source": [
    "print ('max_temp: {}'.format(resp['weather'][0]['description']))"
   ]
  },
  {
   "cell_type": "markdown",
   "metadata": {},
   "source": [
    "### Parsing reponse contents with multiple counts"
   ]
  },
  {
   "cell_type": "code",
   "execution_count": 88,
   "metadata": {},
   "outputs": [],
   "source": [
    "params = {'bbox':'12,32,15,37,10' ,'units':'metric', 'APPID': APPID}\n",
    "\n",
    "response = requests.get(\"http://api.openweathermap.org/data/2.5/box/city?\", params=params)"
   ]
  },
  {
   "cell_type": "code",
   "execution_count": 89,
   "metadata": {},
   "outputs": [],
   "source": [
    "resp = response.json()"
   ]
  },
  {
   "cell_type": "code",
   "execution_count": 92,
   "metadata": {},
   "outputs": [
    {
     "name": "stdout",
     "output_type": "stream",
     "text": [
      "4\n"
     ]
    }
   ],
   "source": [
    "print (len(resp))"
   ]
  },
  {
   "cell_type": "markdown",
   "metadata": {},
   "source": [
    "You can loop over the length of the repsonse contents in a list and parse the value of a key."
   ]
  },
  {
   "cell_type": "code",
   "execution_count": 91,
   "metadata": {},
   "outputs": [
    {
     "name": "stdout",
     "output_type": "stream",
     "text": [
      "Birkirkara\n",
      "Tripoli\n",
      "Zawiya\n",
      "Sabratah\n"
     ]
    }
   ],
   "source": [
    " for i in range(len(resp)):\n",
    "        print (resp['list'][i]['name'])"
   ]
  },
  {
   "cell_type": "markdown",
   "metadata": {},
   "source": [
    "### Writing to a JSON file"
   ]
  },
  {
   "cell_type": "markdown",
   "metadata": {},
   "source": [
    "Most of the times, we immediately want to save the retrived data from API into a flat file for later use. Python library `json` has `dump` method that can be used to save the reponse contents into a file. JSON files are saved as text files with `.json` extension. A file needs to be opened for writing using builtin open() function. The arguement `w` tells Python that the file needs to be opened for writing.  "
   ]
  },
  {
   "cell_type": "code",
   "execution_count": 97,
   "metadata": {},
   "outputs": [],
   "source": [
    "import json\n",
    "with open(\"data_file.json\", \"w\") as write_file:\n",
    "    json.dump(resp, write_file)"
   ]
  },
  {
   "cell_type": "markdown",
   "metadata": {},
   "source": [
    "### Reading a JSON file"
   ]
  },
  {
   "cell_type": "markdown",
   "metadata": {},
   "source": [
    "You can also use json library to read a file containing JSON object using a load() method."
   ]
  },
  {
   "cell_type": "code",
   "execution_count": 98,
   "metadata": {},
   "outputs": [],
   "source": [
    "with open(\"data_file.json\", \"r\") as read_file:\n",
    "    data = json.load(read_file)"
   ]
  }
 ],
 "metadata": {
  "kernelspec": {
   "display_name": "Python 3",
   "language": "python",
   "name": "python3"
  },
  "language_info": {
   "codemirror_mode": {
    "name": "ipython",
    "version": 3
   },
   "file_extension": ".py",
   "mimetype": "text/x-python",
   "name": "python",
   "nbconvert_exporter": "python",
   "pygments_lexer": "ipython3",
   "version": "3.8.1"
  }
 },
 "nbformat": 4,
 "nbformat_minor": 4
}
